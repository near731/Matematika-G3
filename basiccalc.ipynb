{
 "cells": [
  {
   "cell_type": "markdown",
   "metadata": {},
   "source": [
    "# Gradiens, Divergencia és Rotáció számító"
   ]
  },
  {
   "cell_type": "code",
   "execution_count": 46,
   "metadata": {},
   "outputs": [
    {
     "name": "stdout",
     "output_type": "stream",
     "text": [
      "u=\n"
     ]
    },
    {
     "data": {
      "text/plain": [
       "'x-y**2*z-z'"
      ]
     },
     "metadata": {},
     "output_type": "display_data"
    },
    {
     "name": "stdout",
     "output_type": "stream",
     "text": [
      "V=\n"
     ]
    },
    {
     "data": {
      "image/png": "[encoded data removed]",
      "text/latex": [
       "$\\displaystyle \\left[\\begin{matrix}x^{3}\\\\3 y - 5 z\\\\z^{3}\\end{matrix}\\right]$"
      ],
      "text/plain": [
       "⎡    3    ⎤\n",
       "⎢   x     ⎥\n",
       "⎢         ⎥\n",
       "⎢3⋅y - 5⋅z⎥\n",
       "⎢         ⎥\n",
       "⎢    3    ⎥\n",
       "⎣   z     ⎦"
      ]
     },
     "metadata": {},
     "output_type": "display_data"
    }
   ],
   "source": [
    "#Imports\n",
    "\n",
    "import numpy as np\n",
    "import sympy as sp\n",
    "from sympy import Matrix, symbols\n",
    "import math\n",
    "import scipy.linalg as la\n",
    "from sympy.interactive import printing\n",
    "from sympy.printing.latex import LatexPrinter, print_latex\n",
    "printing.init_printing(use_latex=True)\n",
    "\n",
    "#Symbols\n",
    "\n",
    "x,y,z=sp.symbols(\"x,y,z\")\n",
    "e=sp.symbols(\"e\")\n",
    "e=np.e\n",
    "#np.pi=sp.symbols(\"pi\")\n",
    "\n",
    "#Scalar\n",
    "\n",
    "u=input(\"A skalármező: \")\n",
    "\n",
    "print(\"u=\")\n",
    "display(u)\n",
    "\n",
    "#Vector\n",
    "\n",
    "v_1=input(\"Első komponens:\")\n",
    "v_2=input(\"Második komponens:\")\n",
    "v_3=input(\"Harmadik komponens:\")\n",
    "\n",
    "v=sp.Matrix([v_1,v_2,v_3])\n",
    "\n",
    "print(\"V=\")\n",
    "display(v)\n"
   ]
  },
  {
   "cell_type": "markdown",
   "metadata": {},
   "source": [
    "# Gradiens:"
   ]
  },
  {
   "cell_type": "code",
   "execution_count": 47,
   "metadata": {},
   "outputs": [
    {
     "name": "stdout",
     "output_type": "stream",
     "text": [
      "Gradiens:\n",
      "grad(u)=\n"
     ]
    },
    {
     "data": {
      "image/png": "[encoded data removed]",
      "text/latex": [
       "$\\displaystyle \\left[\\begin{matrix}1\\\\- 2 y z\\\\- y^{2} - 1\\end{matrix}\\right]$"
      ],
      "text/plain": [
       "⎡   1    ⎤\n",
       "⎢        ⎥\n",
       "⎢ -2⋅y⋅z ⎥\n",
       "⎢        ⎥\n",
       "⎢   2    ⎥\n",
       "⎣- y  - 1⎦"
      ]
     },
     "metadata": {},
     "output_type": "display_data"
    }
   ],
   "source": [
    "#grad\n",
    "print(\"Gradiens:\")\n",
    "\n",
    "gv_1=sp.diff(u,x)\n",
    "gv_2=sp.diff(u,y)\n",
    "gv_3=sp.diff(u,z)\n",
    "\n",
    "gv=sp.Matrix([gv_1,gv_2,gv_3])\n",
    "\n",
    "print(\"grad(u)=\")\n",
    "display(gv)"
   ]
  },
  {
   "cell_type": "markdown",
   "metadata": {},
   "source": [
    "# Divergencia:"
   ]
  },
  {
   "cell_type": "code",
   "execution_count": 48,
   "metadata": {},
   "outputs": [
    {
     "name": "stdout",
     "output_type": "stream",
     "text": [
      "Divergencia:\n",
      "div(v)=\n"
     ]
    },
    {
     "data": {
      "image/png": "[encoded data removed]",
      "text/latex": [
       "$\\displaystyle 3 x^{2} + 3 z^{2} + 3$"
      ],
      "text/plain": [
       "   2      2    \n",
       "3⋅x  + 3⋅z  + 3"
      ]
     },
     "metadata": {},
     "output_type": "display_data"
    }
   ],
   "source": [
    "#div\n",
    "print(\"Divergencia:\")\n",
    "\n",
    "dv=sp.diff(v_1,x)+sp.diff(v_2,y)+sp.diff(v_3,z)\n",
    "print(\"div(v)=\")\n",
    "display(dv)"
   ]
  },
  {
   "cell_type": "markdown",
   "metadata": {},
   "source": [
    "# Rotáció:"
   ]
  },
  {
   "cell_type": "code",
   "execution_count": 49,
   "metadata": {},
   "outputs": [
    {
     "name": "stdout",
     "output_type": "stream",
     "text": [
      "Rotáció:\n",
      "rot(v)=\n"
     ]
    },
    {
     "data": {
      "image/png": "[encoded data removed]",
      "text/latex": [
       "$\\displaystyle \\left[\\begin{matrix}5\\\\0\\\\0\\end{matrix}\\right]$"
      ],
      "text/plain": [
       "⎡5⎤\n",
       "⎢ ⎥\n",
       "⎢0⎥\n",
       "⎢ ⎥\n",
       "⎣0⎦"
      ]
     },
     "metadata": {},
     "output_type": "display_data"
    }
   ],
   "source": [
    "#rot\n",
    "print(\"Rotáció:\")\n",
    "\n",
    "rv_1=sp.diff(v_3, y)-sp.diff(v_2,z)\n",
    "rv_2=sp.diff(v_1, z)-sp.diff(v_3,x)\n",
    "rv_3=sp.diff(v_2, x)-sp.diff(v_1,y)\n",
    "\n",
    "rv=sp.Matrix([rv_1,rv_2,rv_3])\n",
    "print(\"rot(v)=\")\n",
    "display(rv)"
   ]
  },
  {
   "cell_type": "markdown",
   "metadata": {},
   "source": [
    "# Rot Rot v(r)"
   ]
  },
  {
   "cell_type": "code",
   "execution_count": 50,
   "metadata": {},
   "outputs": [
    {
     "name": "stdout",
     "output_type": "stream",
     "text": [
      "rot(rot(v))\n",
      "rot(rot(v))=\n"
     ]
    },
    {
     "data": {
      "image/png": "[encoded data removed]",
      "text/latex": [
       "$\\displaystyle \\left[\\begin{matrix}0\\\\0\\\\0\\end{matrix}\\right]$"
      ],
      "text/plain": [
       "⎡0⎤\n",
       "⎢ ⎥\n",
       "⎢0⎥\n",
       "⎢ ⎥\n",
       "⎣0⎦"
      ]
     },
     "metadata": {},
     "output_type": "display_data"
    }
   ],
   "source": [
    "print(\"rot(rot(v))\")\n",
    "\n",
    "rrv_1=sp.diff(rv_3, y)-sp.diff(rv_2,z)\n",
    "rrv_2=sp.diff(rv_1, z)-sp.diff(rv_3,x)\n",
    "rrv_3=sp.diff(rv_2, x)-sp.diff(rv_1,y)\n",
    "\n",
    "rrv=sp.Matrix([rrv_1,rrv_2,rrv_3])\n",
    "\n",
    "print(\"rot(rot(v))=\")\n",
    "\n",
    "display(rrv)\n",
    "\n"
   ]
  },
  {
   "cell_type": "markdown",
   "metadata": {},
   "source": [
    "# Grad Div v(r)"
   ]
  },
  {
   "cell_type": "code",
   "execution_count": 51,
   "metadata": {},
   "outputs": [
    {
     "name": "stdout",
     "output_type": "stream",
     "text": [
      "Grad Div v(r)\n",
      "grad(div(v))=\n"
     ]
    },
    {
     "data": {
      "image/png": "[encoded data removed]",
      "text/latex": [
       "$\\displaystyle \\left[\\begin{matrix}6 x\\\\0\\\\6 z\\end{matrix}\\right]$"
      ],
      "text/plain": [
       "⎡6⋅x⎤\n",
       "⎢   ⎥\n",
       "⎢ 0 ⎥\n",
       "⎢   ⎥\n",
       "⎣6⋅z⎦"
      ]
     },
     "metadata": {},
     "output_type": "display_data"
    }
   ],
   "source": [
    "print(\"Grad Div v(r)\")\n",
    "\n",
    "gdv_1=sp.diff(dv,x)\n",
    "gdv_2=sp.diff(dv,y)\n",
    "gdv_3=sp.diff(dv,z)\n",
    "\n",
    "gdv=sp.Matrix([gdv_1,gdv_2,gdv_3])\n",
    "\n",
    "print(\"grad(div(v))=\")\n",
    "display(gdv)"
   ]
  },
  {
   "cell_type": "markdown",
   "metadata": {},
   "source": [
    "# *Készítette: near731*"
   ]
  }
 ],
 "metadata": {
  "interpreter": {
   "hash": "455a55cce20ed01e1fa62ff5d92b864060a25bf83d8c32c7db5bf412c986f158"
  },
  "kernelspec": {
   "display_name": "Python 3.9.7 64-bit (windows store)",
   "name": "python3"
  },
  "language_info": {
   "codemirror_mode": {
    "name": "ipython",
    "version": 3
   },
   "file_extension": ".py",
   "mimetype": "text/x-python",
   "name": "python",
   "nbconvert_exporter": "python",
   "pygments_lexer": "ipython3",
   "version": "3.9.7"
  },
  "orig_nbformat": 4
 },
 "nbformat": 4,
 "nbformat_minor": 2
}
